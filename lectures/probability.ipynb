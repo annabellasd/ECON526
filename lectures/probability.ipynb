{
  "cells": [
    {
      "cell_type": "markdown",
      "metadata": {},
      "source": [
        "# ECON526: Quantitative Economics with Data Science Applications\n",
        "\n",
        "Probability and Uncertainty\n",
        "\n",
        "Jesse Perla\n",
        "\n",
        "# Overview\n",
        "\n",
        "## Summary\n",
        "\n",
        "-   Will provide background on probability, simulation of randomness,\n",
        "    independence, and expectations\n",
        "-   See the following for extra material - some of which were used in\n",
        "    these notes\n",
        "    -   <a href=\"https://python.quantecon.org/prob_matrix.html\"\n",
        "        target=\"_blank\">QuantEcon Probability</a>\n",
        "    -   <a href=\"https://intro.quantecon.org/prob_dist.html\"\n",
        "        target=\"_blank\">QuantEcon Distributions and Probabilities</a>\n",
        "    -   <a href=\"https://python.quantecon.org/lln_clt.html\"\n",
        "        target=\"_blank\">QuantEcon LLN and CLT</a>\n",
        "-   Using the following packages and definitions"
      ],
      "id": "ea70156f-309f-4900-a285-93e9cd1e6348"
    },
    {
      "cell_type": "code",
      "execution_count": 1,
      "metadata": {},
      "outputs": [],
      "source": [
        "import matplotlib.pyplot as plt\n",
        "import pandas as pd\n",
        "import numpy as np\n",
        "import scipy.stats\n",
        "import seaborn as sns"
      ],
      "id": "83aa557c"
    },
    {
      "cell_type": "markdown",
      "metadata": {},
      "source": [
        "# Probability\n",
        "\n",
        "## Definitions\n",
        "\n",
        "To formalize probability always be careful to separate\n",
        "\n",
        "1.  **Events** i.e., probability space.\n",
        "2.  **Probability** an events occurs. i.e., probability measure\n",
        "3.  **Value** or implications of an event. i.e., random variables\n",
        "\n",
        "In addition, we will introduce,\n",
        "\n",
        "1.  **Stochastic Processes** a sequence of events where the probability\n",
        "    of the next event depends the past events\n",
        "2.  **Markov Processes** a stochastic process where the probability of\n",
        "    the next event depends only on the current event\n",
        "\n",
        "## Probability Space\n",
        "\n",
        "**Probability space** is a $(\\Omega, \\mathcal{A})$:\n",
        "\n",
        "-   Set $\\Omega$ of possible **outcomes** and $\\omega \\in \\Omega$ is a\n",
        "    particular outcome\n",
        "\n",
        "    -   e.g. $\\Omega = \\{U, E, R, D\\}$ for unemployed, employed,\n",
        "        retired, or dead\n",
        "\n",
        "-   Subsets $A \\subseteq \\Omega$ are **events**\n",
        "\n",
        "    -   e.g. $A = \\{U, E\\}$ is the event of being employed or unemployed\n",
        "    -   $\\Omega \\setminus A = \\{R, D\\}$ (the `\\setminus`) is event of\n",
        "        not being either\n",
        "\n",
        "-   The collection of all possible events is $\\mathcal{A}$ where\n",
        "    $A \\in \\mathcal{A}$\n",
        "\n",
        "    -   $\\Omega \\in \\mathcal{A}$, i.e. we can consider the event of any\n",
        "        outcome occurring\n",
        "    -   $\\emptyset \\in \\mathcal{A}$, i.e. we can consider the event of\n",
        "        nothing occurring\n",
        "\n",
        "## Probability Measure\n",
        "\n",
        "**Probability Measure** is a function which assigns a numerical value on\n",
        "the likelihood of an event\n",
        "\n",
        "-   For us, $\\mathbb{P} : \\mathcal{A} \\rightarrow [0,1]$\n",
        "\n",
        "    -   e.g. $\\mathbb{P}(\\{U, E\\}) = 0.7$ is probability either $U$ or\n",
        "        $E$\n",
        "    -   $\\mathbb{P}(\\Omega \\setminus \\{U, E\\}) = 0.3$\n",
        "\n",
        "-   Will see denoted as a function, $\\mu(A)$ for integrals in advanced\n",
        "    uses\n",
        "\n",
        "    -   Overkill for probability spaces with a finite, discrete number\n",
        "        of elements\n",
        "    -   Important for probability spaces with a continuous number of\n",
        "        elements\n",
        "    -   Essential for stochastic processes (e.g., flipping a coin until\n",
        "        heads)\n",
        "\n",
        "## Random Variables\n",
        "\n",
        "**Random Variable**: $X(\\omega)$ assigns a numerical value to a\n",
        "particular outcome\n",
        "\n",
        "-   $X : \\Omega \\rightarrow \\mathbb{R}$, but could be vector or matrix\n",
        "    valued\n",
        "\n",
        "    -   e.g. $X(\\omega = E) = 1$ if employed, $X(\\omega = U) = 0$ if\n",
        "        unemployed. Useful for doing counts\n",
        "\n",
        "-   Or $X(\\omega = E) = \\$40,000$ if employed,\n",
        "    $X(\\omega = E) = \\$15,000$ if unemployed. Useful for finding average\n",
        "    incomes\n",
        "\n",
        "-   Random variables defined on $\\Omega$, and inherit the probability\n",
        "    measure\n",
        "\n",
        "    -   So can query values like $\\mathbb{P}(X =\\$40,000)$\n",
        "\n",
        "## Axioms of Probability\n",
        "\n",
        "Probability measure $\\mathbb{P}$ on probability space\n",
        "$(\\Omega, \\mathcal{A})$ must satisfy axioms:\n",
        "\n",
        "-   **Non-negativity**: $\\mathbb{P}(A) \\geq 0$\n",
        "-   **Normalization**: $\\mathbb{P}(\\Omega) = 1$\n",
        "-   **Additivity**: If $A \\cap B = \\emptyset$, then\n",
        "    $\\mathbb{P}(A \\cup B) = \\mathbb{P}(A) + \\mathbb{P}(B)$\n",
        "\n",
        "These imply other results such as:\n",
        "\n",
        "-   $\\mathbb{P}(\\emptyset) = 0$\n",
        "-   $\\mathbb{P}(A \\cup B) = \\mathbb{P}(A) + \\mathbb{P}(B) - \\mathbb{P}(A \\cap B)$\n",
        "-   $\\mathbb{P}(\\Omega \\setminus A) = 1 - \\mathbb{P}(A)$\n",
        "\n",
        "# Discrete Distributions\n",
        "\n",
        "## Discrete Distributions\n",
        "\n",
        "-   A discrete probability spaces have finite (or countable) number of\n",
        "    outcomes\n",
        "\n",
        "-   When convenient, we can number the outcomes arbitrarily as\n",
        "    $n = 1,\\ldots N$ (or $\\infty$) and then work with\n",
        "    $\\Omega = \\{1, \\ldots N\\}$ and $\\omega \\in \\Omega$\n",
        "\n",
        "-   Axioms especially simple because we use\n",
        "    $\\mathbb{P}(\\omega = n) = p_n$,\n",
        "\n",
        "    -   **Non-negativity**: $p_n \\geq 0$\n",
        "    -   **Normalization**: $\\sum\\limits_{n=1}^{N} p_n = 1$\n",
        "    -   **Additivity**: $\\mathbb{P}(A) = \\sum\\limits_{n \\in A} p_n$\n",
        "\n",
        "## Random Variables\n",
        "\n",
        "-   Notation can become a little confusing because we will sometimes use\n",
        "    the same index number for the event and for the random value, but\n",
        "    they are separate!\n",
        "\n",
        "-   Frequently we will assign the random variable as just that index\n",
        "\n",
        "    -   $X(\\omega = n) = n$ and then denote $\\mathbb{P}(X = n) = p_n$\n",
        "\n",
        "-   Other times we may want to associate a value with each outcome\n",
        "\n",
        "    -   $X(\\omega = n) = x_n$ and then denote\n",
        "        $\\mathbb{P}(X = x_n) = p_n$\n",
        "\n",
        "## PDF and CDF\n",
        "\n",
        "-   **Probability Mass Function (PMF)** is the probability of a single\n",
        "    outcome for random variable $X$. Will assume $X$ itself has discrete\n",
        "    values $$\n",
        "    p_n \\equiv \\mathbb{P}(X = n)\n",
        "    $$\n",
        "\n",
        "-   **Cumulative Distribution Function (CDF)** is the probability of all\n",
        "    outcomes less than or equal to a particular outcome. $$\n",
        "    \\mathbb{P}(X \\leq n) = \\sum\\limits_{i=1}^{n} p_i\n",
        "    $$\n",
        "\n",
        "## Expectation\n",
        "\n",
        "-   Expectation of a random variable is the sum of the values weighted\n",
        "    by the probabilities. Continuous $\\Omega$ uses integrals or measure\n",
        "    theory when weird\n",
        "-   Especially easy to compute for discrete random variables $$\n",
        "    \\mathbb{E}[X] = \\sum_{n=1}^N x_n \\mathbb{P}(X = x_n)\n",
        "    $$\n",
        "-   Generalized to functions of a random variables $$\n",
        "    \\mathbb{E}[f(X)] = \\sum_{n=1}^N f(x_n) \\mathbb{P}(X = x_n)\n",
        "    $$\n",
        "\n",
        "## Expectations and Linear Algebra\n",
        "\n",
        "Vectors can help with the accounting and notation of expectations. Let\n",
        "\n",
        "-   $x \\equiv \\begin{bmatrix} x_1 & x_2 & \\ldots & x_N \\end{bmatrix}^{\\top}$\n",
        "    be the list of values for the random variable $X$\n",
        "-   $p \\equiv \\begin{bmatrix} p_1 & p_2 & \\ldots & p_N \\end{bmatrix}^{\\top}$\n",
        "    be the list of probabilities\n",
        "-   Then the expectation is (broadcasting $f(\\cdot)$ across $x$ as\n",
        "    required) $$\n",
        "    \\begin{aligned}\n",
        "    \\mathbb{E}[X] &= \\sum_{n=1}^N x_n \\mathbb{P}(X = x_n) = p \\cdot x = p^{\\top} x\\\\\n",
        "    \\mathbb{E}[f(X)] &= \\sum_{n=1}^N f(x_n) \\mathbb{P}(X = x_n) = p \\cdot f(x) = p^{\\top} f(x)\n",
        "    \\end{aligned}\n",
        "    $$\n",
        "\n",
        "## Example with a Discrete Distribution\n",
        "\n",
        "-   $\\Omega = \\{U, E, R\\}$\n",
        "-   $\\mathbb{P}(U) = 0.1, \\mathbb{P}(E) = 0.8, \\mathbb{P}(R) = 0.1$\n",
        "-   $X(U) = 15000, X(E) = 40000, X(R) = 10000$\n",
        "-   $\\mathbb{E}[X]$ and $\\mathbb{E}[\\sqrt{X}]$"
      ],
      "id": "a992c924-ca86-4ea5-b26d-315e93816872"
    },
    {
      "cell_type": "code",
      "execution_count": 2,
      "metadata": {
        "output-location": "column"
      },
      "outputs": [
        {
          "output_type": "stream",
          "name": "stdout",
          "text": [
            "E(X) = 34500.0\n",
            "E(f(X)) = 182.2474487139159\n",
            "CDF(X) = [0.1 0.9 1. ]"
          ]
        }
      ],
      "source": [
        "p = np.array([0.1, 0.8, 0.1])\n",
        "x = np.array([15000, 40000, 10000])\n",
        "def f(x):\n",
        "    return np.sqrt(x)\n",
        "print(f\"E(X) = {p @ x}\")\n",
        "print(f\"E(f(X)) = {p @ f(x)}\")\n",
        "print(f\"CDF(X) = {np.cumsum(p)}\")"
      ],
      "id": "f6abca7c"
    },
    {
      "cell_type": "markdown",
      "metadata": {},
      "source": [
        "Note that the CDF was easy to calculate as cumulative sums.\n",
        "Interpretable?\n",
        "\n",
        "## Using the `discrete_rv`\n",
        "\n",
        "-   `scipy.stats` has a `discrete_rv` type with built-in functions\n",
        "-   Useful for working with discrete random variables"
      ],
      "id": "9cf23f56-c3d1-449d-b680-9faf4c6c6d10"
    },
    {
      "cell_type": "code",
      "execution_count": 3,
      "metadata": {
        "output-location": "column"
      },
      "outputs": [
        {
          "output_type": "stream",
          "name": "stdout",
          "text": [
            "E(X) = 34500.0\n",
            "E(f(X)) = 182.2474487139159\n",
            "CDF(X) = [0.2 1.  0.1]\n",
            "Samples of X = [40000 40000 10000 40000 40000]"
          ]
        }
      ],
      "source": [
        "p = np.array([0.1, 0.8, 0.1])\n",
        "x = np.array([15000, 40000, 10000])\n",
        "u = scipy.stats.rv_discrete(\n",
        "  values=(x, p))\n",
        "samples = u.rvs(size=5)\n",
        "print(f\"E(X) = {u.mean()}\")\n",
        "print(f\"E(f(X)) = {u.expect(f)}\")\n",
        "print(f\"CDF(X) = {u.cdf(x)}\")\n",
        "print(f\"Samples of X = {samples}\")"
      ],
      "id": "79475a1c"
    },
    {
      "cell_type": "markdown",
      "metadata": {},
      "source": [
        "## Histogram $N=50$"
      ],
      "id": "239908fe-c779-4314-a768-4c305915cf7a"
    },
    {
      "cell_type": "code",
      "execution_count": 4,
      "metadata": {
        "output-location": "column"
      },
      "outputs": [
        {
          "output_type": "display_data",
          "metadata": {},
          "data": {
            "image/png": "[encoded data removed]"
          }
        }
      ],
      "source": [
        "N = 50\n",
        "plt.hist(u.rvs(size=N),\n",
        "  density=True,\n",
        "  label='Observations')\n",
        "plt.show()"
      ],
      "id": "87c1798f"
    },
    {
      "cell_type": "markdown",
      "metadata": {},
      "source": [
        "## Histogram $N=500$"
      ],
      "id": "22ea99dd-a8da-4086-b56a-98493b8e5674"
    },
    {
      "cell_type": "code",
      "execution_count": 5,
      "metadata": {
        "output-location": "column"
      },
      "outputs": [
        {
          "output_type": "display_data",
          "metadata": {},
          "data": {
            "image/png": "[encoded data removed]"
          }
        }
      ],
      "source": [
        "N = 500\n",
        "plt.hist(u.rvs(size=N),\n",
        "  density=True,\n",
        "  label='Observations')\n",
        "plt.show()"
      ],
      "id": "24b353c9"
    },
    {
      "cell_type": "markdown",
      "metadata": {},
      "source": [
        "## The Binomial Distribution\n",
        "\n",
        "For $n = 1 \\ldots N$, the **binomial distribution** is defined by the\n",
        "PMF $$\n",
        "\\displaystyle \n",
        "\\begin{aligned}\n",
        "\\mathbb{P}(X = n) &= \\binom{N}{n} \\theta^n (1-\\theta)^{N-n}\\\\\n",
        "\\mathbb{E}(X) &= \\sum_{n=0}^N n \\binom{N}{n} \\theta^n (1-\\theta)^{N-n} = N \\theta\n",
        "\\end{aligned}\n",
        "$$"
      ],
      "id": "baa6ffa4-ebd7-44bd-90aa-6e873ca5ca65"
    },
    {
      "cell_type": "code",
      "execution_count": 6,
      "metadata": {
        "output-location": "column"
      },
      "outputs": [
        {
          "output_type": "stream",
          "name": "stdout",
          "text": [
            "Mean: 5.00\n",
            "Variance: 2.50\n",
            "Draws of u: [5 3 4 4 7]"
          ]
        }
      ],
      "source": [
        "N = 10\n",
        "θ = 0.5\n",
        "u = scipy.stats.binom(N, θ)\n",
        "print(f\"Mean: {u.mean():.2f}\")\n",
        "print(f\"Variance: {u.var():.2f}\")\n",
        "print(f\"Draws of u: {u.rvs(5)}\")"
      ],
      "id": "73f0a8ea"
    },
    {
      "cell_type": "markdown",
      "metadata": {},
      "source": [
        "## The Binomial Probability Mass Function"
      ],
      "id": "18eea0fe-a89e-41bc-88c6-ddc7df814ea8"
    },
    {
      "cell_type": "code",
      "execution_count": 7,
      "metadata": {
        "output-location": "column"
      },
      "outputs": [
        {
          "output_type": "display_data",
          "metadata": {},
          "data": {
            "image/png": "[encoded data removed]"
          }
        }
      ],
      "source": [
        "grid = np.arange(N+1)\n",
        "u_pmf = u.pmf(grid)\n",
        "\n",
        "fig, ax = plt.subplots()\n",
        "ax.plot(grid, u_pmf,\n",
        "  linestyle='',\n",
        "  marker='o',\n",
        "  alpha=0.8, ms=4)\n",
        "ax.vlines(grid, 0,\n",
        "  u_pmf,\n",
        "  lw=0.2)\n",
        "ax.set_xticks(grid)\n",
        "plt.show()"
      ],
      "id": "dc0c8571"
    },
    {
      "cell_type": "markdown",
      "metadata": {},
      "source": [
        "## The Binomial Cumulative Distribution Function\n",
        "\n",
        "$$\n",
        "\\mathbb{P}(X \\leq n) = \\sum_{i=0}^n \\binom{N}{i} \\theta^i (1-\\theta)^{N-i}\n",
        "$$"
      ],
      "id": "760a891f-6a1a-48ba-aedd-534ced0517a3"
    },
    {
      "cell_type": "code",
      "execution_count": 8,
      "metadata": {
        "output-location": "column"
      },
      "outputs": [
        {
          "output_type": "display_data",
          "metadata": {},
          "data": {
            "image/png": "[encoded data removed]"
          }
        }
      ],
      "source": [
        "grid = np.arange(N+1)\n",
        "u_cdf = u.cdf(grid)\n",
        "\n",
        "fig, ax = plt.subplots()\n",
        "ax.step(grid, u_cdf)\n",
        "ax.vlines(grid, 0, u_cdf,\n",
        "  lw=0.2)\n",
        "ax.set_xticks(grid)\n",
        "plt.show()"
      ],
      "id": "088e0828"
    },
    {
      "cell_type": "markdown",
      "metadata": {},
      "source": [
        "## Histogram $N=50$"
      ],
      "id": "c973706a-9c60-4a99-885e-ebdd9331a51d"
    },
    {
      "cell_type": "code",
      "execution_count": 9,
      "metadata": {
        "output-location": "column"
      },
      "outputs": [
        {
          "output_type": "display_data",
          "metadata": {},
          "data": {
            "image/png": "[encoded data removed]"
          }
        }
      ],
      "source": [
        "N = 50\n",
        "u = scipy.stats.binom(10, 0.5)\n",
        "plt.hist(u.rvs(size=N),\n",
        "  density=True,\n",
        "  align='left')\n",
        "plt.show()"
      ],
      "id": "d1fae7d2"
    },
    {
      "cell_type": "markdown",
      "metadata": {},
      "source": [
        "## Histogram $N=5000$"
      ],
      "id": "ba133c20-1e7d-4429-86c8-04647920594b"
    },
    {
      "cell_type": "code",
      "execution_count": 10,
      "metadata": {
        "output-location": "column"
      },
      "outputs": [
        {
          "output_type": "display_data",
          "metadata": {},
          "data": {
            "image/png": "[encoded data removed]"
          }
        }
      ],
      "source": [
        "N = 5000\n",
        "u = scipy.stats.binom(10, 0.5)\n",
        "plt.hist(u.rvs(size=N),\n",
        "  density=True,\n",
        "  align='left')\n",
        "plt.show()"
      ],
      "id": "16acea9e"
    },
    {
      "cell_type": "markdown",
      "metadata": {},
      "source": [
        "# LLN and CLT\n",
        "\n",
        "## Law of Large Numbers (LLN)\n",
        "\n",
        "-   A classic LLN is the [Strong Law of Large\n",
        "    Numbers](https://en.wikipedia.org/wiki/Law_of_large_numbers#Strong_law)\n",
        "\n",
        "-   Take a sequence of independent, identically distributed random\n",
        "    variables $X_1, X_2, \\ldots$ with $\\mathbb{E}[X_i] = \\mu$ and\n",
        "    $\\mathbb{V}[X_i] = \\sigma^2 < \\infty$. Then,\n",
        "\n",
        "    -   If $X_n$ is a random variable then\n",
        "        $bar{X}_N \\equiv \\sum_{i=1}^N X_n$ is also a random variable\n",
        "    -   The law says for any $\\epsilon$,\n",
        "        $\\lim_{N\\to\\infty} \\mathbb{P}(|\\bar{X}_N - \\mu| > \\epsilon) \\rightarrow 0$\n",
        "    -   Sometimes denoted $\\bar{X}_N \\xrightarrow{p} \\mu$ for\n",
        "        “convergence in probability”\n",
        "\n",
        "-   Powerful and frequently used, but remember assumptions!\n",
        "\n",
        "## Visualizing the LLN with Gaussians $N=20$"
      ],
      "id": "e6937e06-a755-476a-9be6-b3951b45999a"
    },
    {
      "cell_type": "code",
      "execution_count": 11,
      "metadata": {
        "output-location": "slide"
      },
      "outputs": [
        {
          "output_type": "display_data",
          "metadata": {},
          "data": {
            "image/png": "[encoded data removed]"
          }
        }
      ],
      "source": [
        "N = 20  # Number of samples\n",
        "mu, sigma = 0, 1\n",
        "np.random.seed(42)\n",
        "samples = np.random.normal(mu, sigma, N)\n",
        "sample_means = np.cumsum(samples) / np.arange(1, N + 1)\n",
        "plt.scatter(range(1, N + 1), samples, label='Individual Samples', alpha=0.6, s=10)\n",
        "plt.plot(range(1, N + 1), sample_means, label='Sample Mean', linewidth=2)\n",
        "plt.axhline(mu, color='r', linestyle='--', label='True Mean')\n",
        "for n in range(N): # add lines to samples from sample mean\n",
        "    plt.plot([n + 1, n + 1], [sample_means[n], samples[n]], color='gray', linewidth=0.5, alpha=0.6)\n",
        "plt.xlabel('Sample Number $N$')\n",
        "plt.legend()\n",
        "plt.show()"
      ],
      "id": "b1cdb2ff"
    },
    {
      "cell_type": "markdown",
      "metadata": {},
      "source": [
        "## Visualizing the LLN with Gaussians $N=100$"
      ],
      "id": "08314dba-f2d2-4857-ad52-b850993781bc"
    },
    {
      "cell_type": "code",
      "execution_count": 12,
      "metadata": {
        "output-location": "slide"
      },
      "outputs": [
        {
          "output_type": "display_data",
          "metadata": {},
          "data": {
            "image/png": "[encoded data removed]"
          }
        }
      ],
      "source": [
        "N = 100  # Number of samples\n",
        "mu, sigma = 0, 1\n",
        "np.random.seed(42)\n",
        "samples = np.random.normal(mu, sigma, N)\n",
        "sample_means = np.cumsum(samples) / np.arange(1, N + 1)\n",
        "plt.scatter(range(1, N + 1), samples, label='Individual Samples', alpha=0.6, s=10)\n",
        "plt.plot(range(1, N + 1), sample_means, label='Sample Mean', linewidth=2)\n",
        "plt.axhline(mu, color='r', linestyle='--', label='True Mean')\n",
        "for n in range(N): # add lines to samples from sample mean\n",
        "    plt.plot([n + 1, n + 1], [sample_means[n], samples[n]], color='gray', linewidth=0.5, alpha=0.6)\n",
        "plt.xlabel('Sample Number $N$')\n",
        "plt.legend()\n",
        "plt.show()"
      ],
      "id": "bb635ce5"
    },
    {
      "cell_type": "markdown",
      "metadata": {},
      "source": [
        "## Pareto Distributions\n",
        "\n",
        "-   Pareto distributions are a family of distributions with a power-law\n",
        "    tail\n",
        "\n",
        "-   Parameterized by $(x_m, \\alpha)$ with the PDF $$\n",
        "    p(x) = \\frac{\\alpha x_m^{\\alpha}}{x^{\\alpha+1}}\n",
        "    $$\n",
        "\n",
        "-   The mean is $\\mathbb{E}[X] = \\frac{\\alpha x_m}{\\alpha - 1}$ for\n",
        "    $\\alpha > 1$\n",
        "\n",
        "-   The variance is\n",
        "    $\\mathbb{V}[X] = \\frac{\\alpha x_m^2}{(\\alpha - 1)^2(\\alpha - 2)}$\n",
        "    for $\\alpha > 2$\n",
        "\n",
        "A distribution with pdf $p(x)$ is powerlaw if $p(x) \\propto x^{-\\alpha}$\n",
        "for some $\\alpha > 0$ as $x \\rightarrow \\infty$. More formally, if\n",
        "$\\lim_{x\\to\\infty}\\frac{\\log p(x)}{\\log x} = -\\alpha$\n",
        "\n",
        "## Visualizing the Samples means for a Pareto Distribution"
      ],
      "id": "75572b5f-cff5-4ec3-9a32-7414c0c6b033"
    },
    {
      "cell_type": "code",
      "execution_count": 13,
      "metadata": {
        "output-location": "slide"
      },
      "outputs": [
        {
          "output_type": "display_data",
          "metadata": {},
          "data": {
            "image/png": "[encoded data removed]"
          }
        }
      ],
      "source": [
        "N = 100 # Number of samples\n",
        "alpha = 1.5\n",
        "np.random.seed(42)\n",
        "dist = scipy.stats.pareto(alpha)\n",
        "samples = dist.rvs(size=N)\n",
        "sample_means = np.cumsum(samples) / np.arange(1, N + 1)\n",
        "plt.figure(figsize=(10, 6))\n",
        "plt.scatter(range(1, N + 1), samples, label='Individual Samples', alpha=0.6, s=10)\n",
        "plt.plot(range(1, N + 1), sample_means, label='Sample Mean', linewidth=2)\n",
        "plt.axhline(dist.mean(), color='r', linestyle='--', label='True Mean')\n",
        "for n in range(N): # add lines to samples from sample mean\n",
        "    plt.plot([n + 1, n + 1], [sample_means[n], samples[n]], color='gray', linewidth=0.5, alpha=0.6)\n",
        "plt.xlabel('Sample Number $N$')\n",
        "plt.legend()\n",
        "plt.show()"
      ],
      "id": "26f85508"
    },
    {
      "cell_type": "markdown",
      "metadata": {},
      "source": [
        "## Central Limit Theorem (CLT)\n",
        "\n",
        "-   The [Central Limit\n",
        "    Theorem](https://en.wikipedia.org/wiki/Central_limit_theorem) (CLT)\n",
        "    is a classic result in statistics\n",
        "\n",
        "-   Again, lets assume we have IID observations with\n",
        "    $\\mathbb{E}[X_i] = \\mu$ and $\\mathbb{V}[X_i] = \\sigma^2 < \\infty$\n",
        "\n",
        "-   Define the sample mean\n",
        "    $\\bar{X}_N \\equiv \\frac{1}{N} \\sum_{i=1}^N X_i$\n",
        "\n",
        "-   Then the CLT is\n",
        "\n",
        "    $$\n",
        "    \\sqrt{n} \\left( \\bar{X}_n - \\mu \\right) \\xrightarrow{d} \\mathcal{N}(0, \\sigma^2)\n",
        "    $$\n",
        "\n",
        "    -   That notation means [converges in\n",
        "        distribution](https://en.wikipedia.org/wiki/Convergence_of_random_variables#Convergence_in_distribution),\n",
        "        which roughly means that as $n\\to\\infty$ the CDF are getting\n",
        "        closer to each other\n",
        "\n",
        "## Visualizing the CLT with Exponential Distributions\n",
        "\n",
        "-   See [QuantEcon CLT\n",
        "    lecture](https://python.quantecon.org/lln_clt.html#clt) for the\n",
        "    source.\n",
        "-   Exponential distributions $p(x) = \\lambda e^{-\\lambda x}$ for\n",
        "    $\\lambda = 0.5$"
      ],
      "id": "165fe5fb-05f8-4b1a-a862-d610ded74896"
    },
    {
      "cell_type": "code",
      "execution_count": 14,
      "metadata": {
        "output-location": "column"
      },
      "outputs": [
        {
          "output_type": "display_data",
          "metadata": {},
          "data": {
            "image/png": "[encoded data removed]"
          }
        }
      ],
      "source": [
        "x = np.linspace(0, 15, 1000)\n",
        "y = scipy.stats.expon.pdf(x, scale=1/0.5)\n",
        "plt.plot(x, y)\n",
        "plt.xlabel('Value')\n",
        "plt.ylabel('Density')\n",
        "plt.show()"
      ],
      "id": "5e6e9d5d"
    },
    {
      "cell_type": "markdown",
      "metadata": {},
      "source": [
        "## CLT Visualization at $n=10$"
      ],
      "id": "6e0718c3-4111-4ec0-aa96-812a1771f9d3"
    },
    {
      "cell_type": "code",
      "execution_count": 15,
      "metadata": {},
      "outputs": [
        {
          "output_type": "display_data",
          "metadata": {},
          "data": {
            "image/png": "[encoded data removed]"
          }
        }
      ],
      "source": [
        "# Set parameters\n",
        "n = 10                  # Choice of n\n",
        "k = 100000               # Number of draws of Y_n\n",
        "distribution = scipy.stats.expon(2)  # Exponential distribution, λ = 1/2\n",
        "μ, s = distribution.mean(), distribution.std()\n",
        "\n",
        "# Draw underlying RVs. Each row contains a draw of X_1,..,X_n\n",
        "data = distribution.rvs((k, n))\n",
        "# Compute mean of each row, producing k draws of \\bar X_n\n",
        "sample_means = data.mean(axis=1)\n",
        "# Generate observations of Y_n\n",
        "Y = np.sqrt(n) * (sample_means - μ)\n",
        "\n",
        "# Plot\n",
        "fig, ax = plt.subplots(figsize=(10, 6))\n",
        "xmin, xmax = -3 * s, 3 * s\n",
        "ax.set_xlim(xmin, xmax)\n",
        "ax.hist(Y, bins=60, alpha=0.5, density=True)\n",
        "xgrid = np.linspace(xmin, xmax, 200)\n",
        "ax.plot(xgrid, scipy.stats.norm.pdf(xgrid, scale=s), 'k-', lw=2, label='$N(0, \\sigma^2)$')\n",
        "ax.legend()\n",
        "plt.show()"
      ],
      "id": "dad3d7a6"
    },
    {
      "cell_type": "markdown",
      "metadata": {},
      "source": [
        "## CLT visualization at $n=250$"
      ],
      "id": "2c8bfe97-9aa2-4bdb-b85d-673e98047799"
    },
    {
      "cell_type": "code",
      "execution_count": 16,
      "metadata": {},
      "outputs": [
        {
          "output_type": "display_data",
          "metadata": {},
          "data": {
            "image/png": "[encoded data removed]"
          }
        }
      ],
      "source": [
        "# Set parameters\n",
        "n = 250                  # Choice of n\n",
        "k = 100000               # Number of draws of Y_n\n",
        "distribution = scipy.stats.expon(2)  # Exponential distribution, λ = 1/2\n",
        "μ, s = distribution.mean(), distribution.std()\n",
        "\n",
        "# Draw underlying RVs. Each row contains a draw of X_1,..,X_n\n",
        "data = distribution.rvs((k, n))\n",
        "# Compute mean of each row, producing k draws of \\bar X_n\n",
        "sample_means = data.mean(axis=1)\n",
        "# Generate observations of Y_n\n",
        "Y = np.sqrt(n) * (sample_means - μ)\n",
        "\n",
        "# Plot\n",
        "fig, ax = plt.subplots(figsize=(10, 6))\n",
        "xmin, xmax = -3 * s, 3 * s\n",
        "ax.set_xlim(xmin, xmax)\n",
        "ax.hist(Y, bins=60, alpha=0.5, density=True)\n",
        "xgrid = np.linspace(xmin, xmax, 200)\n",
        "ax.plot(xgrid, scipy.stats.norm.pdf(xgrid, scale=s), 'k-', lw=2, label='$N(0, \\sigma^2)$')\n",
        "ax.legend()\n",
        "plt.show()"
      ],
      "id": "eda85ad3"
    },
    {
      "cell_type": "markdown",
      "metadata": {},
      "source": [
        "# Joint Distributions\n",
        "\n",
        "## Joint Probability Distributions\n",
        "\n",
        "-   Key concepts are **marginal distributions**, **conditional\n",
        "    distributions**, **independence**, and **conditional expectations**\n",
        "-   Will demonstrate with bivariate discretely valued distributions\n",
        "    -   Similar for multivariate distributions, except we replace sums\n",
        "        with sums over multiple indices\n",
        "    -   Similar for continuous or mixed discrete-continuous\n",
        "        distributions, except we replace sums with integrals\n",
        "-   Interpretation of the joint distribution of $X$ and $Y$ is the\n",
        "    probability of each pair of outcomes occurs\n",
        "    -   e.g., prob you get a cash transfer and are unemployed, don’t get\n",
        "        a cash transfer and are unemployed, get a cash transfer and are\n",
        "        employed, etc.\n",
        "\n",
        "## Bivariate Probability Distributions\n",
        "\n",
        "-   Let $X,Y$ be two discrete random variables that take values:\n",
        "\n",
        "    $$\n",
        "    X\\in\\{1,\\ldots,I\\},\\quad Y\\in\\{1,\\ldots,J\\}\n",
        "    $$\n",
        "\n",
        "-   Then their **joint distribution** is described by a matrix\n",
        "\n",
        "    $$\n",
        "    P\\equiv[\\mathbb{P}(X=i,Y=j)]_{i=1\\ldots I, j=1,\\ldots J}\\in \\mathbb{R}^{I\\times J}\n",
        "    $$\n",
        "\n",
        "-   Which fulfills the key axioms of probability $$\n",
        "    \\begin{aligned}\n",
        "    p_{ij}\\equiv\\mathbb{P}(X=i,Y=j) &\\geq 0\\\\\n",
        "    \\sum_{i=1}^{I}\\sum_{j=1}^{J}p_{ij}=1\n",
        "    \\end{aligned}\n",
        "    $$\n",
        "\n",
        "## Marginal Probability Distributions\n",
        "\n",
        "-   The joint distribution induces marginal distributions\n",
        "\n",
        "    $$\n",
        "    \\begin{aligned}\n",
        "    \\mathbb{P}(X=i)& = \\sum_{j=1}^{J}p_{ij} = \\mu_i, \\quad i=1,\\ldots,I\\\\\n",
        "    \\mathbb{P}(Y=j)&= \\sum_{i=1}^{I}p_{ij} = \\nu_j, \\quad j=1,\\ldots,J \n",
        "    \\end{aligned}\n",
        "    $$\n",
        "\n",
        "-   The marginal distributions are also probability distributions\n",
        "\n",
        "    -   i.e., $\\mu_i \\geq 0$ and $\\sum_{i=1}^{I} \\mu_i = 1$\n",
        "    -   e.g. the probability you were given a conditional cash transfer\n",
        "        regardless of your employment status\n",
        "\n",
        "## Conditional Probability\n",
        "\n",
        "-   Conditional probabilities are defined according to\n",
        "\n",
        "    $$\n",
        "    \\mathbb{P}(A \\,|\\, B)=\\frac{\\mathbb{P}(A \\cap B)}{\\mathbb{P}(B)}\n",
        "    $$\n",
        "\n",
        "-   $A \\cap B$ is the event that both $A$ and $B$ occur, i.e., the\n",
        "    intersection\n",
        "\n",
        "    -   e.g. you were given a conditional cash transfer AND you were\n",
        "        unemployed\n",
        "\n",
        "-   The conditional probability is the probability of $A$ given $B$ has\n",
        "    occurred\n",
        "\n",
        "    -   e.g. the probability you were given a conditional cash transfer\n",
        "        given you were unemployed\n",
        "\n",
        "## Conditional Distributions\n",
        "\n",
        "For a pair of discrete random variables, we have the **conditional\n",
        "distribution**\n",
        "\n",
        "$$\n",
        "\\mathbb{P}(X=i|Y=j)=\\frac{p_{ij}}{\\sum_{i=1}^{I}p_{ij}} \n",
        "=\\frac{\\mathbb{P}(X=i, Y=j)}{\\mathbb{P}(Y=j)}\n",
        "$$\n",
        "\n",
        "-   Fix $Y=j$, then the conditional distribution of $X \\,|\\,Y=j$ is a\n",
        "    probability distribution. Trivially positive since $p_ij \\geq 0$.\n",
        "    Verify it sums to $1$\n",
        "\n",
        "$$\n",
        "\\sum_{i=1}^{I}\\mathbb{P}(X=i\\,|\\,Y=j)\n",
        "=\\frac{\\sum_{i=1}^{I}p_{ij}}{\\sum_{i=1}^{I}p_{ij}}=1\n",
        "$$\n",
        "\n",
        "## Statistical Independence\n",
        "\n",
        "-   Random variables $X \\sim p$ and $Y \\sim g$ are statistically\n",
        "    **independent** if\n",
        "\n",
        "$$ \n",
        "\\mathbb{P}(X=i,Y=j)=p_i g_j,\\text{ for all } i, j\n",
        "$$\n",
        "\n",
        "-   i.e., the joint distribution is the product of the marginal\n",
        "    distributions\n",
        "-   e.g., the probability you were given a conditional cash transfer AND\n",
        "    you were unemployed is probability you were given a conditional cash\n",
        "    transfer $\\times$ the probability you were unemployed\n",
        "\n",
        "## Conditional Distributions and Independence\n",
        "\n",
        "-   When $X$ and $Y$ are independent, use the definitions of conditional\n",
        "    and marginal distributions $$\n",
        "    \\begin{aligned}\n",
        "    \\mathbb{P}(X=i\\,|\\,Y=j) &=\\frac{\\mathbb{P}(X=i, Y=j)}{\\mathbb{P}(Y=j)} =\\frac{p_ig_j}{\\sum_{i=1}^{I}p_ig_j}=\\frac{p_ig_j}{g_j}=p_i \\\\\n",
        "    \\mathbb{P}(Y=j\\,|\\,X=i) &=\\frac{\\mathbb{P}(X=i, Y=j)}{\\mathbb{P}(X=i)} =\\frac{p_ig_j}{\\sum_{j=1}^{J}p_ig_j}=\\frac{p_ig_j}{p_i}=g_j\n",
        "    \\end{aligned}\n",
        "    $$\n",
        "\n",
        "-   i.e, independent $X$ and $Y$ implies the conditional distributions\n",
        "    are the marginals\n",
        "\n",
        "    -   $\\mathbb{P}(X=i\\,|\\,Y=j) = \\mathbb{P}(X=i)$ and\n",
        "        $\\mathbb{P}(Y=j\\,|\\,X=i) = \\mathbb{P}(Y=j)$\n",
        "\n",
        "## Notation for (Conditional) Independence\n",
        "\n",
        "-   Let $X, Y, Z$ be random variables\n",
        "\n",
        "-   Common notation for independence is\n",
        "\n",
        "    $$\n",
        "    \\begin{aligned}\n",
        "    X &\\perp Y\\\\\n",
        "    \\mathbb{P}(X=x, Y=y) &= \\mathbb{P}(X=x) \\mathbb{P}(Y=y)\n",
        "    \\end{aligned}\n",
        "    $$\n",
        "\n",
        "-   Common notation for conditionial independence\n",
        "\n",
        "    $$\n",
        "    \\begin{aligned}\n",
        "    X &\\perp\\!\\!\\!\\perp Y \\,|\\, Z\\\\\n",
        "    \\mathbb{P}(X=x, Y=y | Z=z) &= \\mathbb{P}(X=x | Z=z) \\mathbb{P}(Y=y | Z=z)\n",
        "    \\end{aligned}\n",
        "    $$\n",
        "\n",
        "-   Central to causal inference and treatment effects\n",
        "\n",
        "## Classic Example of Conditional Independence\n",
        "\n",
        "-   Let $X$ be the number of cigarettes smoked per day\n",
        "-   Let $Y$ be the number of years of life remaining\n",
        "-   Let $Z$ be the number of years of smoking\n",
        "-   Then $X \\perp\\!\\!\\!\\perp Y \\,|\\, Z$\n",
        "    -   i.e., the number of cigarettes smoked per day is independent of\n",
        "        the number of years of life remaining given the number of years\n",
        "        of smoking\n",
        "    -   i.e., the number of cigarettes smoked per day is independent of\n",
        "        the number of years of life remaining given the number of years\n",
        "        of smoking\n",
        "\n",
        "## Simpson’s “Paradox”\n",
        "\n",
        "-   [Simpson’s\n",
        "    paradox](https://en.wikipedia.org/wiki/Simpson%27s_paradox) is a\n",
        "    warning on composition effects\n",
        "-   Recall the law of total probability\n",
        "    $\\mathbb{P}(X = x| Y=y) = \\sum_{z} \\mathbb{P}(X = x| Y=y, Z=z) \\mathbb{P}(Z=z| Y=y)$\n",
        "-   Lets say you see $\\mathbb{P}(X| Y=y_1) > \\mathbb{P}(X| Y=y_2)$\n",
        "    -   Might suggests positive relationship on $X$ and $Y$?\n",
        "-   If $\\mathbb{P}(X| Y=y_1, Z=z) < \\mathbb{P}(X| Y=y_2, Z=z)$ for many\n",
        "    $z$ then\n",
        "    -   $X$ and $Y$ may have a negative relationship after conditioning\n",
        "        on $Z$?\n",
        "\n",
        "## UC Berkeley Gender Bias: Overall Data\n",
        "\n",
        "| Total Applicants | Admitted | Men Applicants | Men Admitted                                       | Women Applicants | Women Admitted |\n",
        "|-------------|---------|-------------|------------|---------------|-------------|\n",
        "| 12,763           | 41%      | 8,442          | <span style=\"background-color:#9EFF9E;\">44%</span> | 4,321            | 35%            |\n",
        "\n",
        "-   Classic example is the [Berkeley Gender\n",
        "    Bias](https://en.wikipedia.org/wiki/Simpson%27s_paradox#UC_Berkeley_gender_bias)\n",
        "    is a classic example of [Simpson’s\n",
        "    paradox](https://en.wikipedia.org/wiki/Simpson%27s_paradox)\n",
        "-   But if you look at individual deparments the results are different\n",
        "-   Seemed to show that 4 out of 85 departments had significant bias\n",
        "    against women and 6 significant bias against men\n",
        "-   But the biggest difference was in which departments women appied to\n",
        "-   The following shows the top 6 departments to get a sense of\n",
        "    heterogeneity\n",
        "\n",
        "## Conditional Probabilities for 6 Largest Departments\n",
        "\n",
        "| Dept | All Applicants | Admitted | Men Applicants                                      | Men Admitted                                       | Women Applicants                                    | Women Admitted                                     |\n",
        "|------|------------|--------|------------|-----------|-------------|------------|\n",
        "| A    | 933            | 64%      | <span style=\"background-color:#FE9;\">**825**</span> | 62%                                                | 108                                                 | <span style=\"background-color:#9EFF9E;\">82%</span> |\n",
        "| B    | 585            | 63%      | <span style=\"background-color:#FE9;\">**560**</span> | 63%                                                | 25                                                  | <span style=\"background-color:#9EFF9E;\">68%</span> |\n",
        "| C    | 918            | 35%      | 325                                                 | <span style=\"background-color:#9EFF9E;\">37%</span> | <span style=\"background-color:#FE9;\">**593**</span> | 34%                                                |\n",
        "| D    | 792            | 34%      | <span style=\"background-color:#FE9;\">417</span>     | 33%                                                | 375                                                 | <span style=\"background-color:#9EFF9E;\">35%</span> |\n",
        "| E    | 584            | 25%      | 191                                                 | <span style=\"background-color:#9EFF9E;\">28%</span> | <span style=\"background-color:#FE9;\">**393**</span> | 24%                                                |\n",
        "| F    | 714            | 6%       | <span style=\"background-color:#FE9;\">373</span>     | 6%                                                 | 341                                                 | <span style=\"background-color:#9EFF9E;\">7%</span>  |\n",
        "\n",
        "<span style=\"background-color:#FE9;\">greater number of applicants than\n",
        "other gender</span> and <span style=\"background-color:#9EFF9E;\">less\n",
        "number of applicants than other gender</span> **bold** the two “most\n",
        "applied for” deparmtents for each gender\n",
        "\n",
        "## Explanation Using Conditional Probabilities\n",
        "\n",
        "Overall, $\\mathbb{P}(\\text{Admitted | Men}) = 0.44$ and\n",
        "$\\mathbb{P}(\\text{Admitted | Women}) = 0.35$\n",
        "\n",
        "But this is different when conditioning on departments!\n",
        "\n",
        "-   $\\mathbb{P}(\\text{Admitted | Men, A}) = 0.62$,\n",
        "    $\\mathbb{P}(\\text{Admitted | Women, A}) = 0.82$\n",
        "-   $\\mathbb{P}(\\text{Admitted | Men, B}) = 0.63$,\n",
        "    $\\mathbb{P}(\\text{Admitted | Women, B}) = 0.68$\n",
        "-   “Paradox” because women tend to apply to more competitive\n",
        "    departments\n",
        "\n",
        "## Does this Old Data Imply There was No Bias?\n",
        "\n",
        "-   All data requires assumptions to interpret! Most assumptions are\n",
        "    implicit, so you need to reflect on what assumptions you may have\n",
        "    made\n",
        "-   This simply corrected for the mechanical composition effect\n",
        "-   Interpreting bias better requires reflecting on your “model” and\n",
        "    assumptions\n",
        "    -   Is average quality is identical conditional on department and\n",
        "        gender? Especially in 1973 when there was enormous selection\n",
        "        bias?\n",
        "    -   What if bias leads women to apply to the more competitive\n",
        "        departments?\n",
        "\n",
        "## Bayes’ Law\n",
        "\n",
        "Conditional probability is used for **Bayes’ Law**:\n",
        "\n",
        "$$\n",
        "\\mathbb{P}(A \\,|\\, B)=\\frac{\\mathbb{P}(B \\,|\\, A)\\mathbb{P}(A)}{\\mathbb{P}(B)}\n",
        "$$\n",
        "\n",
        "Sometimes:\n",
        "\n",
        "-   $\\mathbb{P}(B\\,|\\,A)$ is called the “likelihood”\n",
        "-   $\\mathbb{P}(A)$ is called the “prior”\n",
        "-   $\\mathbb{P}(A\\,|\\,B)$ is called the “posterior”\n",
        "-   $\\mathbb{P}(B)$ is called the “marginal likelihood”, which\n",
        "    normalizes the expression\n",
        "\n",
        "## Example with Bayes’ Law\n",
        "\n",
        "$A$ is the event of being unemployed, $B$ is the event of getting a cash\n",
        "transfer\n",
        "\n",
        "-   $\\mathbb{P}(B\\,|\\,A)$ is the probability of being given a cash\n",
        "    transfer given you were unemployed\n",
        "-   $\\mathbb{P}(A)$ is the probability of being unemployed within the\n",
        "    whole distribution\n",
        "-   $\\mathbb{P}(A\\,|\\,B)$ is the probability of being unemployed given\n",
        "    you were given a cash transfer\n",
        "-   $\\mathbb{P}(B)$ is the probability of being given a cash transfer\n",
        "    within the whole distribution\n",
        "-   **Bayes’ law**: probability of being unemployed given you were given\n",
        "    a cash transfer $\\propto$ probability of being given cash transfer\n",
        "    given you were unemployed $\\times$ probability of being unemployed\n",
        "\n",
        "## Bayes Law with Bivariate Random Variables\n",
        "\n",
        "-   For discrete bi-variate random variables, we can write Bayes’ Law as\n",
        "\n",
        "    $$\n",
        "    \\mathbb{P}(X=i\\,|\\,Y=j)=\\frac{\\mathbb{P}(X=i,Y=j)}{\\mathbb{P}(Y=j)}=\\frac{\\mathbb{P}(Y=j\\,|\\,X=i)\\mathbb{P}(X=i)}{\\mathbb{P}(Y=j)}\n",
        "    $$\n",
        "\n",
        "-   If $X$ and $Y$ are independent\n",
        "\n",
        "    -   $\\mathbb{P}(Y=j\\,|\\,X=i) = \\mathbb{P}(Y=j)$\n",
        "    -   Bayes’ Law simplifies to just the marginal distribution\n",
        "\n",
        "    $$\n",
        "    \\mathbb{P}(X=i\\,|\\,Y=j) = \\mathbb{P}(X=i)\n",
        "    $$\n",
        "\n",
        "## Conditional Expectation\n",
        "\n",
        "-   Recall: $\\mathbb{P}(X=i\\,|\\,Y=j)$ is itself a probability\n",
        "    distribution if we vary $j$\n",
        "\n",
        "-   A **conditional expectation** is an expectation using the\n",
        "    conditional probability distribution. For a discrete random variable\n",
        "    $X$ and $Y$, $$\n",
        "    \\mathbb{E}[X\\,|\\,Y=j] = \\sum_{i=1}^{I} i\\, \\mathbb{P}(X=i\\,|\\,Y=j)\n",
        "    $$\n",
        "\n",
        "-   If $X$ and $Y$ are independent then\n",
        "\n",
        "    -   Recall that $\\mathbb{P}(X=i\\,|\\,Y=j) = \\mathbb{P}(X=i)$\n",
        "    -   Which impllies $\\mathbb{E}[X\\,|\\,Y=j] = \\mathbb{E}[X]$\n",
        "    -   That the expected value of $X$ is the same regardless of the\n",
        "        value of $Y$\n",
        "\n",
        "## Key Properties of Expectations\n",
        "\n",
        "-   Let $A$ and $B$ be scalar/vector/matrix constants, and $X$ and $Y$\n",
        "    are scalar/vector/matrix random variables\n",
        "\n",
        "-   Expectations are **linear operators**, which gives us some useful\n",
        "    properties\n",
        "\n",
        "    -   $\\mathbb{E}[A X + B Y] = A \\mathbb{E}[X] + B \\mathbb{E}[Y]$\n",
        "\n",
        "-   $\\mathbb{E}[X Y] \\neq \\mathbb{E}[X] \\mathbb{E}[Y]$ in general\n",
        "\n",
        "    -   But if $X$ and $Y$ are independent, then\n",
        "        $\\mathbb{E}[X Y] = \\mathbb{E}[X] \\mathbb{E}[Y]$\n",
        "\n",
        "-   $\\mathbb{E}[f(X)] \\neq f(\\mathbb{E}[X])$ in geneal\n",
        "\n",
        "    -   Unless $f(\\cdot)$ is linear or if $X$ is degenerate (i.e., a\n",
        "        constant)\n",
        "\n",
        "-   **Jensen’s Inequality**: If $f(\\cdot)$ is a convex function, then\n",
        "    $\\mathbb{E}[f(X)] \\geq f(\\mathbb{E}[X])$\n",
        "\n",
        "## Law of Total Probability\n",
        "\n",
        "-   **Law of Total Probability** is a useful identity for conditional\n",
        "    probabilities\n",
        "    -   Let $A_1, \\ldots, A_N$ be a partition of $\\Omega$\n",
        "    -   i.e., $\\Omega = \\cup_{i=1}^{N} A_i$ and\n",
        "        $A_i \\cap A_j = \\emptyset$ for $i \\neq j$\n",
        "-   Then for any event $B$, $$\n",
        "    \\mathbb{P}(B) = \\sum_{i=1}^{N} \\mathbb{P}(B \\cap A_i) = \\sum_{i=1}^{N} \\mathbb{P}(B \\,|\\, A_i) \\mathbb{P}(A_i)\n",
        "    $$\n",
        "    -   e.g. the probability of being unemployed is the probability of\n",
        "        being unemployed and getting a cash transfer plus the\n",
        "        probability of being unemployed and not getting a cash transfer\n",
        "\n",
        "## Law of Total Expectations\n",
        "\n",
        "-   Let $\\{A_1, \\ldots, A_N\\}$ be a partition of $\\Omega$. For any\n",
        "    random variable $X$,\n",
        "-   **Law of Total Expectations**\n",
        "\n",
        "$$\n",
        "  \\mathbb{E}[X] = \\sum_{i=1}^{N} \\mathbb{E}[X \\,|\\, A_i] \\mathbb{P}(A_i)\n",
        "$$\n",
        "\n",
        "-   e.g. the expected value of income is the expected value of income\n",
        "    given you were unemployed times the probability of being unemployed\n",
        "    plus the expected value of income given you were employed times the\n",
        "    probability of being employed\n",
        "\n",
        "Related decomposition is the [Law of Total\n",
        "Variances](https://en.wikipedia.org/wiki/Law_of_total_variance):\n",
        "$\\mathbb{V}[X] = \\mathbb{E}[\\mathbb{V}[Y\\,|\\,X]] + \\mathbb{V}[\\mathbb{E}[Y\\,|\\,X]]$\n",
        "\n",
        "## Conditional Expectations and Iterated Expectations\n",
        "\n",
        "-   Same properties all hold\n",
        "    e.g. $\\mathbb{E}[A X + B Y \\,|\\, Z] = A \\mathbb{E}[X \\,|\\, Z] + B \\mathbb{E}[Y \\,|\\, Z]$\n",
        "\n",
        "-   Conditional expectations are themselves random variables if the\n",
        "    conditional is. e.g. $\\mathbb{E}[X \\,|\\, Y]$ is a random variable in\n",
        "    $Y$\n",
        "\n",
        "-   **Law of Iterated Expectations**\n",
        "\n",
        "    $$\n",
        "    \\mathbb{E}\\left[\\mathbb{E}[X\\,|\\,Y]\\right] = \\mathbb{E}[X]\n",
        "    $$\n",
        "\n",
        "    -   The expected value of $X$ is the average of the conditional\n",
        "        expectations of $X$ given $Y$ over the distribution of $Y$\n",
        "    -   Similarly for conditionals:\n",
        "        $\\mathbb{E}\\left[\\mathbb{E}[X\\,|\\,Y, Z]\\, |\\, Z\\right] = \\mathbb{E}[X\\,|\\,Z]$"
      ],
      "id": "b9a5006e-a91c-4f94-a72c-e7ca6707e42b"
    }
  ],
  "nbformat": 4,
  "nbformat_minor": 5,
  "metadata": {
    "kernelspec": {
      "name": "python3",
      "display_name": "Python 3 (ipykernel)",
      "language": "python"
    },
    "language_info": {
      "name": "python",
      "codemirror_mode": {
        "name": "ipython",
        "version": "3"
      },
      "file_extension": ".py",
      "mimetype": "text/x-python",
      "nbconvert_exporter": "python",
      "pygments_lexer": "ipython3",
      "version": "3.9.12"
    }
  }
}